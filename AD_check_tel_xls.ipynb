{
 "cells": [
  {
   "cell_type": "code",
   "execution_count": null,
   "metadata": {},
   "outputs": [],
   "source": [
    "import pandas as pd\n",
    "import numpy as np\n",
    "pd.set_option('display.max_rows', 700)\n",
    "import csv\n",
    "import json"
   ]
  },
  {
   "cell_type": "markdown",
   "metadata": {},
   "source": [
    "### 建立df_AD"
   ]
  },
  {
   "cell_type": "code",
   "execution_count": null,
   "metadata": {},
   "outputs": [],
   "source": [
    "with open('json/dept_lst.txt', 'r', encoding='utf8') as filehandle:\n",
    "    dept_lst = json.load(filehandle)"
   ]
  },
  {
   "cell_type": "code",
   "execution_count": null,
   "metadata": {},
   "outputs": [],
   "source": [
    "# append AD.csv\n",
    "li = []\n",
    "for str_dept in dept_lst:\n",
    "    filepath = r\"AD_csv\\\\\"+str_dept+'.csv'    \n",
    "    df = pd.read_csv(filepath, index_col=None, header=0)\n",
    "    df['OrganizationalUnit'] = str_dept\n",
    "    li.append(df)\n",
    "\n",
    "frame = pd.concat(li, axis=0, ignore_index=True)\n",
    "\n",
    "df_AD = frame[frame.title.notnull()]"
   ]
  },
  {
   "cell_type": "code",
   "execution_count": null,
   "metadata": {},
   "outputs": [],
   "source": [
    "df_AD = df_AD.drop(['samaccountname','description'], axis=1)\n",
    "df_AD.rename(\n",
    "    columns = {'department': 'dept_full',\n",
    "               'OrganizationalUnit': 'dept',\n",
    "               'displayname': 'name',\n",
    "               'officephone': 'phone',\n",
    "              }, inplace = True)"
   ]
  },
  {
   "cell_type": "code",
   "execution_count": null,
   "metadata": {},
   "outputs": [],
   "source": [
    "df_AD[['dept','section']]=df_AD['dept_full'].str.split('-', expand=True)\n",
    "df_AD.drop(columns=['dept_full'], inplace=True)"
   ]
  },
  {
   "cell_type": "markdown",
   "metadata": {},
   "source": [
    "### 建立df_tel"
   ]
  },
  {
   "cell_type": "code",
   "execution_count": null,
   "metadata": {},
   "outputs": [],
   "source": [
    "import xlrd\n",
    "\n",
    "with open('json/tel_xls_file.txt', 'r', encoding='utf8') as filehandle:\n",
    "    file_name = json.load(filehandle)\n",
    "print(file_name[0])\n",
    "\n",
    "wb = xlrd.open_workbook(file_name[0])\n",
    "table = wb.sheet_by_name(file_name[1]) \n",
    "\n",
    "ncols = table.ncols # 28\n",
    "\n",
    "title_lst = []\n",
    "name_lst = []\n",
    "tel_lst = []\n",
    "comment_lst = []\n",
    "\n",
    "for i in range(ncols):\n",
    "    if i % 4 == 0:\n",
    "        title_lst.extend(table.col_values(i))\n",
    "    if i % 4 == 1:\n",
    "        name_lst.extend(table.col_values(i))\n",
    "    if i % 4 == 2:\n",
    "        tel_lst.extend(table.col_values(i))\n",
    "    if i % 4 == 3:\n",
    "        comment_lst.extend(table.col_values(i))   "
   ]
  },
  {
   "cell_type": "code",
   "execution_count": null,
   "metadata": {},
   "outputs": [],
   "source": [
    "# 移除單名空白\n",
    "title_lst = [s.replace(' ', '') for s in title_lst]\n",
    "name_lst = [s.replace(' ', '') for s in name_lst]\n",
    "comment_lst = [s.replace(' ', '') for s in comment_lst]"
   ]
  },
  {
   "cell_type": "code",
   "execution_count": null,
   "metadata": {},
   "outputs": [],
   "source": [
    "total_len = len(title_lst)\n",
    "dic_lst = []\n",
    "for i in range(total_len):\n",
    "    d = {}\n",
    "    d['title'] = title_lst[i].strip()\n",
    "    d['name'] = name_lst[i].strip()\n",
    "    d['phone'] = tel_lst[i]\n",
    "    d['comment'] = comment_lst[i].strip()\n",
    "    dic_lst.append(d)\n",
    "    \n",
    "# 由上而下帶入處室單位\n",
    "with open('json/tel_dept_lst.txt', 'r', encoding='utf8') as filehandle:\n",
    "    tel_dept_lst = json.load(filehandle)\n",
    "for i, d in enumerate(dic_lst):\n",
    "    if i == 0:\n",
    "        dept = '董事長室'\n",
    "    if i == 3:\n",
    "        dept = '總經理室'\n",
    "    if d['title'] in tel_dept_lst:\n",
    "        dept = d['title']\n",
    "    d['dept'] = dept "
   ]
  },
  {
   "cell_type": "code",
   "execution_count": null,
   "metadata": {},
   "outputs": [],
   "source": [
    "data_lst = [d for d in dic_lst if d['name']!='']"
   ]
  },
  {
   "cell_type": "code",
   "execution_count": null,
   "metadata": {},
   "outputs": [],
   "source": [
    "# 處理科別\n",
    "with open('json/tel_section_lst.txt', 'r', encoding='utf8') as filehandle:\n",
    "    tel_section_lst = json.load(filehandle)\n",
    "\n",
    "import copy\n",
    "out_put_lst = []\n",
    "lst = copy.deepcopy(data_lst)\n",
    "\n",
    "for i in range(len(lst)):\n",
    "    if lst[i-1]['dept'] == lst[i]['dept']:\n",
    "        b_new_dept = False\n",
    "    elif lst[i-1]['dept'] != lst[i]['dept']:\n",
    "        b_new_dept = True\n",
    "    \n",
    "    if lst[i]['comment'] in tel_section_lst:\n",
    "        section = lst[i]['comment']\n",
    "    elif b_new_dept:\n",
    "        section = ''\n",
    "    lst[i]['section'] = section\n",
    "    out_put_lst.append(lst[i])"
   ]
  },
  {
   "cell_type": "code",
   "execution_count": null,
   "metadata": {},
   "outputs": [],
   "source": [
    "# 轉成df_tel\n",
    "df_tel = pd.DataFrame(out_put_lst, columns=['dept', 'name', 'title', 'phone', 'comment', 'section'])\n",
    "pd.set_option('display.max_rows', df_tel.shape[0]+1)\n",
    "df_tel['phone'] = df_tel['phone'].astype(np.int64)\n",
    "# df_tel"
   ]
  },
  {
   "cell_type": "code",
   "execution_count": null,
   "metadata": {},
   "outputs": [],
   "source": [
    "# section加上\"科\"\n",
    "df_tel['section'] = np.where(df_tel['section'] == '', df_tel['section'], df_tel['section']+'科')"
   ]
  },
  {
   "cell_type": "code",
   "execution_count": null,
   "metadata": {},
   "outputs": [],
   "source": [
    "# 列出df_tel重複\n",
    "d = {} # Initializing Dictionary\n",
    "# counting number of times each word comes up in list of words (in dictionary)\n",
    "for word in name_lst: \n",
    "    d[word] = d.get(word, 0) + 1\n",
    "    \n",
    "tel_repeat_name_lst = []\n",
    "for (key, value) in d.items():\n",
    "    if value >=2:\n",
    "        tel_repeat_name_lst.append(key)\n",
    "tel_repeat_name_lst.remove('')\n",
    "df_tel[df_tel['name'].isin(tel_repeat_name_lst)] # df_重複名單建立\n",
    "# 用此df_重複名單建立 tel_repeat_staff.txt"
   ]
  },
  {
   "cell_type": "code",
   "execution_count": null,
   "metadata": {},
   "outputs": [],
   "source": [
    "with open('json/tel_repeat_staff.txt', 'r', encoding='utf8') as filehandle:\n",
    "    tel_repeat_staff = json.load(filehandle)"
   ]
  },
  {
   "cell_type": "code",
   "execution_count": null,
   "metadata": {},
   "outputs": [],
   "source": [
    "tel_repeat_staff"
   ]
  },
  {
   "cell_type": "code",
   "execution_count": null,
   "metadata": {},
   "outputs": [],
   "source": [
    "# 為了merge暫時drop重複者，之後於df_main額外處理\n",
    "for lst in tel_repeat_staff:\n",
    "    df_tel.drop(df_tel[(df_tel.name==lst[0]) & (df_tel.dept==lst[1])].index, inplace=True)\n",
    "# 特殊處理總務處兼任科長 ->注意hard code 2\n",
    "df_tel.drop(df_tel[(df_tel.name==tel_repeat_staff[2][0]) & (df_tel.comment==tel_repeat_staff[2][1])].index, inplace=True)"
   ]
  },
  {
   "cell_type": "code",
   "execution_count": null,
   "metadata": {},
   "outputs": [],
   "source": [
    "# 完成建立df_tel"
   ]
  },
  {
   "cell_type": "markdown",
   "metadata": {},
   "source": [
    "### df_AD合併df_tel"
   ]
  },
  {
   "cell_type": "code",
   "execution_count": null,
   "metadata": {},
   "outputs": [],
   "source": [
    "# 合併\n",
    "df_merged = pd.merge(df_AD, df_tel, left_on='name', right_on='name', how='left', suffixes=['__AD','__tel'])"
   ]
  },
  {
   "cell_type": "code",
   "execution_count": null,
   "metadata": {
    "scrolled": true
   },
   "outputs": [],
   "source": [
    "df_merged"
   ]
  },
  {
   "cell_type": "markdown",
   "metadata": {},
   "source": [
    "### 檢查資料"
   ]
  },
  {
   "cell_type": "code",
   "execution_count": null,
   "metadata": {},
   "outputs": [],
   "source": [
    "# 處室\n",
    "df_ck = df_merged.copy()\n",
    "df_ck = df_ck[(df_ck['dept__AD']!=df_ck['dept__tel']) \n",
    "          & (~df_ck['dept__tel'].isna())\n",
    "          ]\n",
    "df_ck"
   ]
  },
  {
   "cell_type": "code",
   "execution_count": null,
   "metadata": {},
   "outputs": [],
   "source": [
    "# 科別\n",
    "df_ck = df_merged.copy()\n",
    "df_ck['section__AD'] = np.where(df_ck['section__AD'].isna(), '', df_ck['section__AD'])\n",
    "df_ck['section__AD'] = np.where(df_ck['section__AD']=='機電及系統科', '機電科', df_ck['section__AD'])\n",
    "df_ck = df_ck[(df_ck['section__AD']!=df_ck['section__tel'])\n",
    "          & (df_ck['dept__AD']!='總管理處')\n",
    "          & (~df_ck['dept__tel'].isna())\n",
    "          ]\n",
    "df_ck"
   ]
  },
  {
   "cell_type": "code",
   "execution_count": null,
   "metadata": {},
   "outputs": [],
   "source": [
    "# 職稱\n",
    "df_ck = df_merged.copy()\n",
    "df_ck = df_ck[(df_ck['title__AD']!=df_ck['title__tel']) \n",
    "          & (~df_ck['dept__tel'].isna())\n",
    "          ]\n",
    "df_ck"
   ]
  },
  {
   "cell_type": "code",
   "execution_count": null,
   "metadata": {},
   "outputs": [],
   "source": [
    "# 電話"
   ]
  },
  {
   "cell_type": "code",
   "execution_count": null,
   "metadata": {},
   "outputs": [],
   "source": [
    "# df_merged = df_merged[(~df_merged['phone__tel'].isna())]"
   ]
  },
  {
   "cell_type": "code",
   "execution_count": null,
   "metadata": {},
   "outputs": [],
   "source": [
    "# df_merged['phone__tel'] = df_merged['phone__tel'].astype(np.int64)"
   ]
  },
  {
   "cell_type": "code",
   "execution_count": null,
   "metadata": {},
   "outputs": [],
   "source": [
    "df_ck = df_merged.copy()\n",
    "df_ck = df_ck[(df_ck['phone__AD']!=df_ck['phone__tel']) \n",
    "          & (~df_ck['dept__tel'].isna())\n",
    "          ]\n",
    "df_ck"
   ]
  }
 ],
 "metadata": {
  "kernelspec": {
   "display_name": "Python 3",
   "language": "python",
   "name": "python3"
  },
  "language_info": {
   "codemirror_mode": {
    "name": "ipython",
    "version": 3
   },
   "file_extension": ".py",
   "mimetype": "text/x-python",
   "name": "python",
   "nbconvert_exporter": "python",
   "pygments_lexer": "ipython3",
   "version": "3.8.5"
  }
 },
 "nbformat": 4,
 "nbformat_minor": 4
}

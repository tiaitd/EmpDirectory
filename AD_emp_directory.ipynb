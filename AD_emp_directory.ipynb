{
 "cells": [
  {
   "cell_type": "code",
   "execution_count": null,
   "metadata": {},
   "outputs": [],
   "source": [
    "import pandas as pd\n",
    "import numpy as np\n",
    "pd.set_option('display.max_rows', 700)\n",
    "import csv\n",
    "import json"
   ]
  },
  {
   "cell_type": "code",
   "execution_count": null,
   "metadata": {},
   "outputs": [],
   "source": [
    "with open('json/dept_lst.txt', 'r', encoding='utf8') as filehandle:\n",
    "    dept_lst = json.load(filehandle)"
   ]
  },
  {
   "cell_type": "code",
   "execution_count": null,
   "metadata": {},
   "outputs": [],
   "source": [
    "# append AD.csv\n",
    "li = []\n",
    "for str_dept in dept_lst:\n",
    "    filepath = r\"AD_csv\\\\\"+str_dept+'.csv'    \n",
    "    df = pd.read_csv(filepath, index_col=None, header=0)\n",
    "    df['OrganizationalUnit'] = str_dept\n",
    "    li.append(df)\n",
    "\n",
    "frame = pd.concat(li, axis=0, ignore_index=True)\n",
    "\n",
    "df_AD = frame[frame.title.notnull()].copy()"
   ]
  },
  {
   "cell_type": "code",
   "execution_count": null,
   "metadata": {},
   "outputs": [],
   "source": [
    "# df_CK = df_AD[df_AD['description'].notnull()]\n",
    "# df_CK[df_CK['description'].str.contains('Leave without pay')]"
   ]
  },
  {
   "cell_type": "code",
   "execution_count": null,
   "metadata": {},
   "outputs": [],
   "source": [
    "df_AD.rename(\n",
    "    columns = {'department': 'dept_full',\n",
    "               'OrganizationalUnit': 'dept',\n",
    "               'displayname': 'name',\n",
    "               'officephone': 'tel',\n",
    "              }, inplace = True)"
   ]
  },
  {
   "cell_type": "code",
   "execution_count": null,
   "metadata": {},
   "outputs": [],
   "source": [
    "with open('json/dic_ppl.txt', 'r', encoding='utf8') as filehandle:\n",
    "    dic_ppl = json.load(filehandle)"
   ]
  },
  {
   "cell_type": "code",
   "execution_count": null,
   "metadata": {},
   "outputs": [],
   "source": [
    "df_AD"
   ]
  },
  {
   "cell_type": "code",
   "execution_count": null,
   "metadata": {},
   "outputs": [],
   "source": [
    "# 董事長特助    \n",
    "s1=df_AD[df_AD['name'] ==dic_ppl['ChairmanSA']['name']].iloc[0]\n",
    "d1=s1.to_dict()\n",
    "d1['dept']=dic_ppl['ChairmanSA']['dept']\n",
    "d1['dept_full']=dic_ppl['ChairmanSA']['dept_full']\n",
    "d1['title']=dic_ppl['ChairmanSA']['title']\n",
    "\n",
    "df_AD.drop(df_AD.loc[df_AD['name']==dic_ppl['ChairmanSA']['name']].index, inplace=True)\n",
    "\n",
    "df_AD=df_AD.append(d1 , ignore_index=True)"
   ]
  },
  {
   "cell_type": "code",
   "execution_count": null,
   "metadata": {},
   "outputs": [],
   "source": [
    "# 總經理特助 \n",
    "s2=df_AD[df_AD['name'] ==dic_ppl['PresidentSA']['name']].iloc[0]\n",
    "d2=s2.to_dict()\n",
    "d2['dept']=dic_ppl['PresidentSA']['dept']\n",
    "d2['dept_full']=dic_ppl['PresidentSA']['dept_full']\n",
    "d2['title']=dic_ppl['PresidentSA']['title']\n",
    "\n",
    "df_AD.drop(df_AD.loc[df_AD['name']==dic_ppl['PresidentSA']['name']].index, inplace=True)\n",
    "\n",
    "df_AD=df_AD.append(d2 , ignore_index=True)"
   ]
  },
  {
   "cell_type": "code",
   "execution_count": null,
   "metadata": {},
   "outputs": [],
   "source": [
    "# 兼任OCC長官\n",
    "socc1=df_AD[df_AD['name'] ==dic_ppl['OCCdirector']['name']].iloc[0]\n",
    "docc1=socc1.to_dict()\n",
    "docc1['dept']=dic_ppl['OCCdirector']['dept']\n",
    "docc1['dept_full']=dic_ppl['OCCdirector']['dept_full']\n",
    "docc1['title']=dic_ppl['OCCdirector']['title']\n",
    "df_AD=df_AD.append(docc1, ignore_index=True)\n",
    "\n",
    "socc2=df_AD[df_AD['name'] ==dic_ppl['OCCviceDirector']['name']].iloc[0]\n",
    "docc2=socc2.to_dict()\n",
    "docc2['dept']=dic_ppl['OCCviceDirector']['dept']\n",
    "docc2['dept_full']=dic_ppl['OCCviceDirector']['dept_full']\n",
    "docc2['title']=dic_ppl['OCCviceDirector']['title']\n",
    "df_AD=df_AD.append(docc2, ignore_index=True)"
   ]
  },
  {
   "cell_type": "code",
   "execution_count": null,
   "metadata": {},
   "outputs": [],
   "source": [
    "# 科別順序\n",
    "with open('json/order_of_section.txt', 'r', encoding='utf8') as filehandle:\n",
    "    section_order = json.load(filehandle)\n",
    "df_section_ord = pd.DataFrame(section_order, columns =['section_order', 'section_name'])"
   ]
  },
  {
   "cell_type": "code",
   "execution_count": null,
   "metadata": {},
   "outputs": [],
   "source": [
    "df_AD = pd.merge(df_AD, df_section_ord, left_on='dept_full', right_on='section_name', how='left')\n",
    "df_AD = df_AD.drop(['section_name'], axis=1)"
   ]
  },
  {
   "cell_type": "code",
   "execution_count": null,
   "metadata": {},
   "outputs": [],
   "source": [
    "# 職稱順序\n",
    "with open('json/order_of_title.txt', 'r', encoding='utf8') as filehandle:\n",
    "    title_order = json.load(filehandle)\n",
    "df_title_ord = pd.DataFrame(title_order, columns =['title_name', 'title_order'])"
   ]
  },
  {
   "cell_type": "code",
   "execution_count": null,
   "metadata": {},
   "outputs": [],
   "source": [
    "df_AD = pd.merge(df_AD, df_title_ord, left_on='title', right_on='title_name', how='left')\n",
    "df_AD = df_AD.drop(['title_name'], axis=1)"
   ]
  },
  {
   "cell_type": "code",
   "execution_count": null,
   "metadata": {},
   "outputs": [],
   "source": [
    "df_AD = df_AD.sort_values(['section_order', 'title_order', 'tel'],\n",
    "                  ascending=[True, False, True])"
   ]
  },
  {
   "cell_type": "code",
   "execution_count": null,
   "metadata": {},
   "outputs": [],
   "source": [
    "# 管理處 無科別\n",
    "df_AD['dept_full'] = np.where(df_AD['dept'] == '總管理處', '總管理處', df_AD['dept_full'])"
   ]
  },
  {
   "cell_type": "code",
   "execution_count": null,
   "metadata": {},
   "outputs": [],
   "source": [
    "# 航務處 消防大隊\n",
    "df_AD['dept_full'] = np.where(df_AD['dept'] == '消防大隊', '航務處-消防大隊', df_AD['dept_full'])\n",
    "df_AD['dept'] = np.where(df_AD['dept'] == '消防大隊', '航務處', df_AD['dept'])"
   ]
  },
  {
   "cell_type": "code",
   "execution_count": null,
   "metadata": {},
   "outputs": [],
   "source": [
    "df_AD  = df_AD[[\n",
    "#                 'samaccountname',\n",
    "                'dept','dept_full','title','name','tel','mail',\n",
    "#                 'description',\n",
    "#                 'section_order', 'title_order'\n",
    "              ]]"
   ]
  },
  {
   "cell_type": "code",
   "execution_count": null,
   "metadata": {},
   "outputs": [],
   "source": [
    "# 投票使用\n",
    "# df_AD  = df_AD[[            \n",
    "#                 'dept','dept_full',\n",
    "#                 'samaccountname',\n",
    "#                 'name','mail',\n",
    "#               ]]\n",
    "# df_AD['dept_full'] = df_AD['dept_full'].str.replace('-','/')"
   ]
  },
  {
   "cell_type": "code",
   "execution_count": null,
   "metadata": {},
   "outputs": [],
   "source": [
    "df_AD.to_excel('emp_directory_SAMPLE.xlsx', index=False) "
   ]
  },
  {
   "cell_type": "markdown",
   "metadata": {},
   "source": [
    "### 準備轉換成遞交格式"
   ]
  },
  {
   "cell_type": "code",
   "execution_count": null,
   "metadata": {},
   "outputs": [],
   "source": [
    "# df_full_cols = pd.read_csv('315850000M_原承整理提交版本.csv',header=None)\n",
    "idx_col = [\n",
    "    (0, 'dept_full'),\n",
    "    (2, 'name'),\n",
    "    (4, 'mail'),\n",
    "    (44, 'company_name'),\n",
    "    (50, 'tel_full'),\n",
    "    (65, 'dept'),\n",
    "    (66, 'title'),\n",
    "]\n",
    "idx_lst = [tpl[0] for tpl in idx_col]\n",
    "col_lst = [tpl[1] for tpl in idx_col]"
   ]
  },
  {
   "cell_type": "code",
   "execution_count": null,
   "metadata": {},
   "outputs": [],
   "source": [
    "df_AD['dept_full'] = df_AD['dept_full'].str.replace('-','/')\n",
    "df_AD['dept_full'] = '/' + df_AD['dept_full'] + '/'"
   ]
  },
  {
   "cell_type": "code",
   "execution_count": null,
   "metadata": {},
   "outputs": [],
   "source": [
    "# 補齊tel欄位\n",
    "df_AD['tel'].replace(np.nan, 0, inplace=True)\n",
    "df_AD['tel_full'] = df_AD['tel'].astype(np.int64)\n",
    "df_AD['tel_full'] = '(03)27' + df_AD['tel_full'].astype(str)\n",
    "df_AD.drop(columns=['tel',], inplace=True)"
   ]
  },
  {
   "cell_type": "code",
   "execution_count": null,
   "metadata": {},
   "outputs": [],
   "source": [
    "with open('json/company_name.txt', 'r', encoding='utf8') as filehandle:\n",
    "    company_name_lst = json.load(filehandle)\n",
    "df_AD['company_name'] = company_name_lst[0]"
   ]
  },
  {
   "cell_type": "code",
   "execution_count": null,
   "metadata": {},
   "outputs": [],
   "source": [
    "# 產生 renew_idx_col\n",
    "pop_lst = col_lst.copy()\n",
    "\n",
    "renew_idx_col=[]\n",
    "for i in range(67):\n",
    "    if i in idx_lst:\n",
    "        v = pop_lst.pop(0)\n",
    "        renew_idx_col.append((i,v))\n",
    "    else:\n",
    "        renew_idx_col.append((i,''))"
   ]
  },
  {
   "cell_type": "code",
   "execution_count": null,
   "metadata": {},
   "outputs": [],
   "source": [
    "for t in renew_idx_col:\n",
    "    if t[1]=='':\n",
    "        df_AD[t[0]]=''"
   ]
  },
  {
   "cell_type": "code",
   "execution_count": null,
   "metadata": {},
   "outputs": [],
   "source": [
    "col_order_lst = []\n",
    "for t in renew_idx_col:\n",
    "    if t[1] != '':\n",
    "        col_order_lst.append(t[1])\n",
    "    else:\n",
    "        col_order_lst.append(t[0])"
   ]
  },
  {
   "cell_type": "code",
   "execution_count": null,
   "metadata": {},
   "outputs": [],
   "source": [
    "# 輸出csv\n",
    "df_AD = df_AD[col_order_lst]\n",
    "df_AD.to_csv('emp_directory.csv',index=False, header=False, quoting=csv.QUOTE_ALL)"
   ]
  }
 ],
 "metadata": {
  "kernelspec": {
   "display_name": "Python 3",
   "language": "python",
   "name": "python3"
  },
  "language_info": {
   "codemirror_mode": {
    "name": "ipython",
    "version": 3
   },
   "file_extension": ".py",
   "mimetype": "text/x-python",
   "name": "python",
   "nbconvert_exporter": "python",
   "pygments_lexer": "ipython3",
   "version": "3.8.5"
  }
 },
 "nbformat": 4,
 "nbformat_minor": 4
}
